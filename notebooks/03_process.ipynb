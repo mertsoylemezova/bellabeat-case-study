{
 "cells": [
  {
   "cell_type": "markdown",
   "id": "a36cb222",
   "metadata": {},
   "source": [
    "# 🧼 Process Phase – Bellabeat Smart Device Usage Case Study\n",
    "\n",
    "---\n",
    "\n",
    "## 🧰 Tools Selected\n",
    "\n",
    "We are using the following tools for data cleaning and preparation:\n",
    "\n",
    "- **Python 3.12**\n",
    "- **Pandas**: for data manipulation and cleaning\n",
    "- **NumPy**: for numerical operations\n",
    "- **Jupyter Notebook** in VS Code GitHub Codespaces: for an interactive analysis and documenting results\n",
    "\n",
    "These tools are selected because they are:\n",
    "- Open source\n",
    "- Efficient for working with structured data\n",
    "- Ideal for a reproducible, shareable portfolio project on GitHub\n",
    "\n",
    "---\n",
    "\n",
    "## ✅ Data Integrity Checks\n",
    "\n",
    "Before cleaning, we performed initial integrity checks using:\n",
    "\n",
    "```python\n",
    "# Check structure and types\n",
    "daily_activity.info()\n",
    "\n",
    "# Look for missing values\n",
    "daily_activity.isna().sum()\n",
    "\n",
    "# Look for duplicate entries\n",
    "daily_activity.duplicated().sum()\n"
   ]
  }
 ],
 "metadata": {
  "language_info": {
   "name": "python"
  }
 },
 "nbformat": 4,
 "nbformat_minor": 5
}

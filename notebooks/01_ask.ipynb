{
 "cells": [
  {
   "cell_type": "markdown",
   "id": "3aaa76d3",
   "metadata": {},
   "source": [
    "# 🧠 Ask Phase – Bellabeat Smart Device Usage Case Study\n",
    "\n",
    "## 📌 Business Task\n",
    "\n",
    "Bellabeat, a high-tech manufacturer of health-focused smart products for women, wants to unlock insights into how consumers use non-Bellabeat smart devices. These insights will help guide marketing strategies for one of Bellabeat’s products.\n",
    "\n",
    "As a junior data analyst at Bellabeat, I have been tasked with conducting data analysis to:\n",
    "\n",
    "- Identify smart device usage trends.\n",
    "- Apply those trends to Bellabeat’s target audience.\n",
    "- Recommend data-driven marketing strategies for a selected Bellabeat product.\n",
    "\n",
    "## 💡 Guiding Questions\n",
    "\n",
    "1. What are some trends in smart device usage?\n",
    "2. How could these trends apply to Bellabeat customers?\n",
    "3. How could these trends help influence Bellabeat marketing strategy?\n",
    "\n",
    "## 👥 Key Stakeholders\n",
    "\n",
    "- **Urška Sršen** – Bellabeat co-founder and Chief Creative Officer\n",
    "- **Marketing analytics team** – Responsible for turning insights into campaigns\n",
    "- **Product team** – Interested in user behavior and features to develop\n",
    "\n",
    "---\n",
    "\n",
    "✏️ Next step: We will move to the **Prepare** phase to explore and clean the available datasets in order to ensure they are ready for analysis.\n"
   ]
  }
 ],
 "metadata": {
  "language_info": {
   "name": "python"
  }
 },
 "nbformat": 4,
 "nbformat_minor": 5
}
